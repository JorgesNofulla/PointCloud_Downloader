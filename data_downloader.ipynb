{
 "cells": [
  {
   "cell_type": "markdown",
   "metadata": {},
   "source": [
    "# 1. Configuration and Setup"
   ]
  },
  {
   "cell_type": "code",
   "execution_count": null,
   "metadata": {},
   "outputs": [],
   "source": [
    "import os\n",
    "import requests\n",
    "import geopandas as gpd\n",
    "import numpy as np\n",
    "import laspy\n",
    "import pathlib\n",
    "from shapely.geometry import Point, Polygon\n",
    "from pyproj import Transformer, CRS\n",
    "from ipyleaflet import Map, DrawControl\n",
    "import ipywidgets as widgets\n",
    "\n",
    "# Configuration\n",
    "SHAPEFILE_ZIP = \"AHN_subunits_GeoTiles.zip\"\n",
    "DOWNLOAD_URL = \"https://geotiles.citg.tudelft.nl/AHN4_T/\"\n",
    "DOWNLOAD_DIR = \"downloads/\"\n",
    "MAP_CENTER = (52.1, 5.3)\n",
    "MAP_ZOOM_LEVEL = 8\n",
    "\n",
    "# Ensure download directory exists\n",
    "os.makedirs(DOWNLOAD_DIR, exist_ok=True)\n",
    "\n",
    "# Load GeoDataFrame from a shapefile\n",
    "gdf = gpd.read_file(SHAPEFILE_ZIP)\n"
   ]
  },
  {
   "cell_type": "markdown",
   "metadata": {},
   "source": [
    "# 2. Create Interactive Map\n",
    "### This section creates an interactive map using ipyleaflet and sets up coordinate transformation."
   ]
  },
  {
   "cell_type": "code",
   "execution_count": null,
   "metadata": {},
   "outputs": [],
   "source": [
    "# Create an interactive map centered on the specified location\n",
    "m = Map(center=MAP_CENTER, zoom=MAP_ZOOM_LEVEL)\n",
    "draw_control = DrawControl()\n",
    "\n",
    "# Coordinate transformation setup\n",
    "transformer = Transformer.from_crs(\"epsg:4326\", \"epsg:28992\", always_xy=True)\n",
    "target_crs = CRS.from_epsg(28992)  # RD New coordinate system\n",
    "\n",
    "# Output widget for displaying messages and confirmations\n",
    "output = widgets.Output()\n",
    "\n",
    "confirm_button = widgets.Button(description=\"Confirm\", disabled=True)\n",
    "cancel_button = widgets.Button(description=\"Cancel\", disabled=True)\n"
   ]
  },
  {
   "cell_type": "markdown",
   "metadata": {},
   "source": [
    "# 3. Handle Draw Event\n",
    "### This function handles the drawing event on the map, transforming the coordinates and finding intersecting polygons."
   ]
  },
  {
   "cell_type": "code",
   "execution_count": null,
   "metadata": {},
   "outputs": [],
   "source": [
    "def handle_draw(self, action, geo_json):\n",
    "    global global_intersections, rd_polygon\n",
    "    confirm_button.disabled = False\n",
    "    cancel_button.disabled = False\n",
    "    with output:\n",
    "        output.clear_output()\n",
    "        coordinates = geo_json['geometry']['coordinates'][0]\n",
    "        rd_coordinates = [transformer.transform(lon, lat) for lon, lat in coordinates]\n",
    "        rd_polygon = Polygon(rd_coordinates)\n",
    "        global_intersections = gdf[gdf.intersects(rd_polygon)]\n",
    "\n",
    "        if not global_intersections.empty:\n",
    "            display(widgets.HBox([confirm_button, cancel_button]))\n",
    "            print(\"Intersecting polygons found, confirm to download and clip data.\")\n",
    "        else:\n",
    "            print(\"No intersecting polygons found.\")\n"
   ]
  },
  {
   "cell_type": "markdown",
   "metadata": {},
   "source": [
    "# 4. Confirm and Download\n",
    "### This function is called when the confirm button is clicked, handling the download and clipping of the LAZ files."
   ]
  },
  {
   "cell_type": "code",
   "execution_count": null,
   "metadata": {},
   "outputs": [],
   "source": [
    "def on_confirm_clicked(b):\n",
    "    global global_intersections, rd_polygon\n",
    "    with output:\n",
    "        output.clear_output()\n",
    "        if global_intersections is not None:\n",
    "            print(\"Starting the download and clipping, please wait...\")\n",
    "            for index, row in global_intersections.iterrows():\n",
    "                url = f\"{DOWNLOAD_URL}{row['GT_AHNSUB']}.LAZ\"\n",
    "                save_path = f\"{DOWNLOAD_DIR}{row['GT_AHNSUB']}.LAZ\"\n",
    "                response = requests.get(url, stream=True)\n",
    "                if response.status_code == 200:\n",
    "                    with open(save_path, 'wb') as file:\n",
    "                        file.write(response.content)\n",
    "\n",
    "                    # Clipping the LAZ file\n",
    "                    clipped_path = save_path.replace(\".LAZ\", \"_clipped.LAZ\")\n",
    "                    clip_las_file(save_path, clipped_path, rd_polygon)\n",
    "                    print(f\"Clipped {row['GT_AHNSUB']} and saved to {clipped_path}\")\n",
    "\n",
    "            print(\"All operations completed.\")\n",
    "            confirm_button.disabled = True\n",
    "            cancel_button.disabled = True\n",
    "            draw_control.clear()\n"
   ]
  },
  {
   "cell_type": "markdown",
   "metadata": {},
   "source": [
    "# 5. Clip LAZ File\n",
    "### This function clips the LAZ file based on the drawn polygon."
   ]
  },
  {
   "cell_type": "code",
   "execution_count": null,
   "metadata": {},
   "outputs": [],
   "source": [
    "def clip_las_file(input_laz_path, output_laz_path, polygon, points_per_iter=1_000_000):\n",
    "    output_dir = pathlib.Path(output_laz_path).parent\n",
    "    output_dir.mkdir(parents=True, exist_ok=True)\n",
    "\n",
    "    polygon_box = polygon.bounds\n",
    "\n",
    "    with laspy.open(input_laz_path) as in_las:\n",
    "        header = laspy.LasHeader(point_format=in_las.header.point_format, version=in_las.header.version)\n",
    "        header.offsets = in_las.header.offsets  # Preserve offsets\n",
    "        header.scales = in_las.header.scales  # Preserve scales\n",
    "        # Create and add the CRS VLR\n",
    "        wkt_vlr = laspy.vrs.known.WktCoordinateSystemVlr(target_crs.to_wkt())\n",
    "        header.vlrs.append(wkt_vlr)\n",
    "\n",
    "        with laspy.open(output_laz_path, mode='w', header=header) as out_las:\n",
    "            for points in in_las.chunk_iterator(points_per_iter):\n",
    "                in_bounds_mask = (\n",
    "                    (points.x >= polygon_box[0]) & (points.x <= polygon_box[2]) &\n",
    "                    (points.y >= polygon_box[1]) & (points.y <= polygon_box[3])\n",
    "                )\n",
    "\n",
    "                if not in_bounds_mask.any():\n",
    "                    continue\n",
    "\n",
    "                coords = np.vstack((points.x[in_bounds_mask], points.y[in_bounds_mask])).T\n",
    "                inside_polygon_mask = [polygon.contains(Point(x, y)) for x, y in coords]\n",
    "                filtered_points = points[in_bounds_mask][inside_polygon_mask]\n",
    "\n",
    "                if len(filtered_points) > 0:\n",
    "                    out_las.write_points(filtered_points)\n"
   ]
  },
  {
   "cell_type": "markdown",
   "metadata": {},
   "source": [
    "# 6. Cancel Drawing\n",
    "### This function handles the cancel event for drawing."
   ]
  },
  {
   "cell_type": "code",
   "execution_count": null,
   "metadata": {},
   "outputs": [],
   "source": [
    "def on_cancel_clicked(b):\n",
    "    with output:\n",
    "        output.clear_output()\n",
    "        print(\"Polygon drawing cancelled.\")\n",
    "        confirm_button.disabled = True\n",
    "        cancel_button.disabled = True\n",
    "        draw_control.clear()\n"
   ]
  },
  {
   "cell_type": "markdown",
   "metadata": {},
   "source": [
    "# 7. Bind Actions and Display Map\n",
    "### This section binds the confirm and cancel actions to their respective buttons and displays the interactive map and output widget."
   ]
  },
  {
   "cell_type": "code",
   "execution_count": null,
   "metadata": {},
   "outputs": [],
   "source": [
    "# Bind actions to buttons\n",
    "confirm_button.on_click(on_confirm_clicked)\n",
    "cancel_button.on_click(on_cancel_clicked)\n",
    "\n",
    "# Setup map controls\n",
    "draw_control.on_draw(handle_draw)\n",
    "\n",
    "m.add_control(draw_control)\n",
    "\n",
    "# Display the map and output widget\n",
    "display(m, output)"
   ]
  }
 ],
 "metadata": {
  "kernelspec": {
   "display_name": "venv",
   "language": "python",
   "name": "python3"
  },
  "language_info": {
   "codemirror_mode": {
    "name": "ipython",
    "version": 3
   },
   "file_extension": ".py",
   "mimetype": "text/x-python",
   "name": "python",
   "nbconvert_exporter": "python",
   "pygments_lexer": "ipython3",
   "version": "3.11.9"
  }
 },
 "nbformat": 4,
 "nbformat_minor": 2
}
